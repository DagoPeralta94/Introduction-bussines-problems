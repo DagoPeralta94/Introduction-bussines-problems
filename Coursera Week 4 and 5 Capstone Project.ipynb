{
    "nbformat_minor": 1, 
    "cells": [
        {
            "source": "<H2>DataScience Capstone Project:</H2>\n<H1>The Battle of the Neighborhoods</H1>\n<H3>An analysis of various neighborhoods in different cities</H3>", 
            "cell_type": "markdown", 
            "metadata": {
                "collapsed": true
            }
        }, 
        {
            "source": "This Notebook consists of two parts. The first part defines the problem statement, and the potential solution for that problem statement. The second part of the notebook describes the actual solution for the problem statement.\n\nThe whole notebook will be submited twice. First as part of the assigment of week 4, the second time as the final result for week 5's assignment. ", 
            "cell_type": "markdown", 
            "metadata": {}
        }, 
        {
            "source": "<H2>Section 1 - introduction</H2>\n\n<H3>Problem statement</H3>\n\nMy customer wants to open a new coffee-shop in Oslo, Norway. He hasn't decided yet on the location, and he has asked me to provide a suggestion what the best location is.\n\nThe best location in this case is related to other venues in the vincinity that attract customers. This could be restaurants, parks, university faculties, companies. But also the lack of other coffee-venues in the area.\n\n<H3>Data selection and requirements</H3>\n\nTo answer the questions, I want to source data from Foursquare. To do the analysis I will use Jupyter notebooks and python 3.7. Libraries I'm going to use include map-visualization, analytical libraries and libraries that make it convenient to work with datasets.\n\nTo answer the question for the customer, I want to create lists of different types of venues. Once I have categorized and clustered them, I want to plot them on a map. Based on this, I want to be able to show the best area for the coffee-shop to be opened.\n\n<H2>Section 2 - Data</H2>", 
            "cell_type": "markdown", 
            "metadata": {}
        }, 
        {
            "execution_count": null, 
            "cell_type": "code", 
            "metadata": {}, 
            "outputs": [], 
            "source": "!conda update -n base -c defaults conda"
        }, 
        {
            "execution_count": null, 
            "cell_type": "code", 
            "metadata": {}, 
            "outputs": [], 
            "source": "!conda install -c conda-forge folium --yes"
        }, 
        {
            "execution_count": null, 
            "cell_type": "code", 
            "metadata": {}, 
            "outputs": [], 
            "source": "# first ensure that potentially required libraries are loaded\nimport numpy as np\nimport json\n\n#from geopy.geocoders import Nominatim # convert an address into latitude and longitude values\nimport requests # library to handle requests\nfrom pandas.io.json import json_normalize # tranform JSON file into a pandas dataframe\n\n# Matplotlib and associated plotting modules\nimport matplotlib.cm as cm\nimport matplotlib.colors as colors\n\n# import k-means from clustering stage\nfrom sklearn.cluster import KMeans\n\nimport folium # map rendering library\n\nprint('Libraries imported.')"
        }
    ], 
    "metadata": {
        "kernelspec": {
            "display_name": "Python 3.6", 
            "name": "python3", 
            "language": "python"
        }, 
        "language_info": {
            "mimetype": "text/x-python", 
            "nbconvert_exporter": "python", 
            "version": "3.6.8", 
            "name": "python", 
            "file_extension": ".py", 
            "pygments_lexer": "ipython3", 
            "codemirror_mode": {
                "version": 3, 
                "name": "ipython"
            }
        }
    }, 
    "nbformat": 4
}